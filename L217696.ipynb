{
  "cells": [
    {
      "cell_type": "markdown",
      "metadata": {
        "id": "TWWLTwYZorzC"
      },
      "source": [
        "# Introduction To Data Science – Assignment 1\n",
        "\n",
        "---\n",
        "\n",
        "### Sections A – B – C – D\n",
        "\n",
        "---\n",
        "\n",
        "***Instructions***\n",
        "\n",
        "Due Date: Sunday 18th September 2022 – 11:59PM\n",
        "\n",
        "Name the file in the format Lyyxxxx and save it as .ipynb (e.g. L201234.ipynb)\n",
        "\n",
        "Submission will be taken on **GitHub and Google Classroom (submit the .ipynb file)** - Instructions to upload onto GitHub are provided in the link https://docs.google.com/document/d/1BR1ULOGeGWJVU6Rr6Qty1FR-quVRZyRvQGII6nEs-wo/edit?usp=sharing\n",
        "\n",
        "After uploading and submitting the .ipynb file onto Google Classroom, also private comment the link to the GitHub repository.\n",
        "\n",
        "All source files needed to complete this assignment can be found on the following Google Drive link https://drive.google.com/drive/folders/1VrkaVcExGWqilSeh50WZe4gUBjmUiJ9b?usp=sharing\n",
        "\n",
        "TA Emails\n",
        "\n",
        "Section A, C - Muhammad Maarij l192347@lhr.nu.edu.pk\n",
        "\n",
        "Section B, D - Hira Ijaz l192377@lhr.nu.edu.pk\n",
        "\n",
        "Happy Coding 😊\n",
        "\n",
        "---"
      ]
    },
    {
      "cell_type": "markdown",
      "metadata": {},
      "source": [
        "# Imports"
      ]
    },
    {
      "cell_type": "code",
      "execution_count": 1,
      "metadata": {},
      "outputs": [
        {
          "name": "stderr",
          "output_type": "stream",
          "text": [
            "c:\\ProgramData\\Anaconda3\\lib\\site-packages\\scipy\\__init__.py:146: UserWarning: A NumPy version >=1.16.5 and <1.23.0 is required for this version of SciPy (detected version 1.23.3\n",
            "  warnings.warn(f\"A NumPy version >={np_minversion} and <{np_maxversion}\"\n"
          ]
        }
      ],
      "source": [
        "import pandas as pd\n",
        "import numpy as np\n",
        "import matplotlib.pyplot as plt\n",
        "from sklearn import linear_model"
      ]
    },
    {
      "cell_type": "markdown",
      "metadata": {
        "id": "arB_0r9H0jjC"
      },
      "source": [
        "---\n",
        "## Question 1\n",
        "---"
      ]
    },
    {
      "cell_type": "markdown",
      "metadata": {
        "id": "qHPTNDy30n99"
      },
      "source": [
        "Define a procedure called \"check_input\" that takes an input as a square list of lists (2D Matrix of N x N) and returns a boolen \"true\" if the input is valid or \"false\" otherwise, according to the following criteria.\n",
        "\n",
        "1. Each coloumn must contain numbers from between 1 and N, with no duplicates.\n",
        "2. Each row must contain numbers from between 1 and N, with no duplicates."
      ]
    },
    {
      "cell_type": "code",
      "execution_count": 2,
      "metadata": {
        "id": "S2_Zic322Lt7"
      },
      "outputs": [],
      "source": [
        "# define procedure here\n",
        "def check_input(matrix):\n",
        "    for row in matrix:\n",
        "        for element in row:\n",
        "            if type(element) != int:\n",
        "                return False\n",
        "        if len(row) != len(set(row)):\n",
        "            return False\n",
        "    \n",
        "    for i in range(len(matrix)):\n",
        "        column = []\n",
        "        for row in matrix:\n",
        "            column.append(row[i])\n",
        "        if len(column) != len(set(column)):\n",
        "            return False\n",
        "    return True"
      ]
    },
    {
      "cell_type": "code",
      "execution_count": 3,
      "metadata": {
        "id": "wdL9MWgq2ZbP"
      },
      "outputs": [
        {
          "name": "stdout",
          "output_type": "stream",
          "text": [
            "True\n",
            "False\n",
            "False\n"
          ]
        }
      ],
      "source": [
        "# run this block to test code after defining the procedure\n",
        "\n",
        "test1 = [[1, 2, 3],\n",
        "        [2, 3, 1],\n",
        "        [3, 1, 2]]\n",
        "\n",
        "test2 = [[1, 2, 3, 4],\n",
        "        [2, 3, 1, 3],\n",
        "        [3, 1, 2, 3],\n",
        "        [4, 4, 4, 4]]\n",
        "\n",
        "test3 = [['a', 'b', 'c'],\n",
        "        ['b', 'c', 'a'],\n",
        "        ['c', 'a', 'b']]\n",
        "\n",
        "print(check_input(test1)) # must return true\n",
        "print(check_input(test2)) # must return false\n",
        "print(check_input(test3)) # must return false"
      ]
    },
    {
      "cell_type": "markdown",
      "metadata": {
        "id": "4RVTlnhWqOUC"
      },
      "source": [
        "---\n",
        "## Question 2\n",
        "---"
      ]
    },
    {
      "cell_type": "markdown",
      "metadata": {
        "id": "Uyc7JPtNt0pR"
      },
      "source": [
        "**Part A** - Import the file \"StudentMarkSheet.csv\" as a Pandas DataFrame and print the information for the dataframe"
      ]
    },
    {
      "cell_type": "code",
      "execution_count": 4,
      "metadata": {
        "id": "wYrt7e6Xop2P"
      },
      "outputs": [
        {
          "name": "stdout",
          "output_type": "stream",
          "text": [
            "<class 'pandas.core.frame.DataFrame'>\n",
            "RangeIndex: 200 entries, 0 to 199\n",
            "Data columns (total 4 columns):\n",
            " #   Column        Non-Null Count  Dtype  \n",
            "---  ------        --------------  -----  \n",
            " 0   Student name  200 non-null    object \n",
            " 1   Exam name     199 non-null    object \n",
            " 2   Exam date     200 non-null    object \n",
            " 3   Marks         197 non-null    float64\n",
            "dtypes: float64(1), object(3)\n",
            "memory usage: 6.4+ KB\n"
          ]
        }
      ],
      "source": [
        "mark_sheet_data = pd.read_csv('StudentMarkSheet.csv')\n",
        "mark_sheet_data.info()"
      ]
    },
    {
      "cell_type": "markdown",
      "metadata": {
        "id": "jIaMvgcft_i0"
      },
      "source": [
        "**Part B** - Remove any rows that do not contain all the data. Also print the following information.\n",
        "\n",
        "1. Number of rows before\n",
        "2. Number of rows containing null data\n",
        "3. Number of rows after"
      ]
    },
    {
      "cell_type": "code",
      "execution_count": 5,
      "metadata": {
        "id": "_ov_SWdxuZUm"
      },
      "outputs": [
        {
          "name": "stdout",
          "output_type": "stream",
          "text": [
            "Total No Of Rows  200\n",
            "Total No Of Null Rows  4\n",
            "Total No Of Rows After Dropping Null Rows  196\n"
          ]
        }
      ],
      "source": [
        "print(\"Total No Of Rows \",len(mark_sheet_data))\n",
        "mark_sheet_null_rows = mark_sheet_data[mark_sheet_data.isnull().any(axis=1)]\n",
        "print(\"Total No Of Null Rows \",len(mark_sheet_null_rows))\n",
        "mark_sheet_data = mark_sheet_data.dropna()\n",
        "print(\"Total No Of Rows After Dropping Null Rows \",len(mark_sheet_data))"
      ]
    },
    {
      "cell_type": "markdown",
      "metadata": {
        "id": "2kd9zAX6wkXM"
      },
      "source": [
        "**Part C** - Print all the marks along with the subject for the student named \"James Walker\""
      ]
    },
    {
      "cell_type": "code",
      "execution_count": 6,
      "metadata": {
        "id": "N0HWJN-PwuSo"
      },
      "outputs": [
        {
          "data": {
            "text/html": [
              "<div>\n",
              "<style scoped>\n",
              "    .dataframe tbody tr th:only-of-type {\n",
              "        vertical-align: middle;\n",
              "    }\n",
              "\n",
              "    .dataframe tbody tr th {\n",
              "        vertical-align: top;\n",
              "    }\n",
              "\n",
              "    .dataframe thead th {\n",
              "        text-align: right;\n",
              "    }\n",
              "</style>\n",
              "<table border=\"1\" class=\"dataframe\">\n",
              "  <thead>\n",
              "    <tr style=\"text-align: right;\">\n",
              "      <th></th>\n",
              "      <th>Exam name</th>\n",
              "      <th>Marks</th>\n",
              "    </tr>\n",
              "  </thead>\n",
              "  <tbody>\n",
              "    <tr>\n",
              "      <th>0</th>\n",
              "      <td>Biology</td>\n",
              "      <td>31.0</td>\n",
              "    </tr>\n",
              "    <tr>\n",
              "      <th>42</th>\n",
              "      <td>Chemistry</td>\n",
              "      <td>61.0</td>\n",
              "    </tr>\n",
              "    <tr>\n",
              "      <th>71</th>\n",
              "      <td>Mathematics</td>\n",
              "      <td>23.0</td>\n",
              "    </tr>\n",
              "    <tr>\n",
              "      <th>150</th>\n",
              "      <td>Physics</td>\n",
              "      <td>100.0</td>\n",
              "    </tr>\n",
              "    <tr>\n",
              "      <th>180</th>\n",
              "      <td>Sociology</td>\n",
              "      <td>73.0</td>\n",
              "    </tr>\n",
              "  </tbody>\n",
              "</table>\n",
              "</div>"
            ],
            "text/plain": [
              "       Exam name  Marks\n",
              "0        Biology   31.0\n",
              "42     Chemistry   61.0\n",
              "71   Mathematics   23.0\n",
              "150      Physics  100.0\n",
              "180    Sociology   73.0"
            ]
          },
          "execution_count": 6,
          "metadata": {},
          "output_type": "execute_result"
        }
      ],
      "source": [
        "james_walker = mark_sheet_data.loc[mark_sheet_data[\"Student name\"] == \"James Walker\"]\n",
        "james_walker[[\"Exam name\",\"Marks\"]]"
      ]
    },
    {
      "cell_type": "markdown",
      "metadata": {
        "id": "ts8Y1EXmwzhf"
      },
      "source": [
        "---\n",
        "## Question 3\n",
        "---"
      ]
    },
    {
      "cell_type": "markdown",
      "metadata": {
        "id": "PJENm_hpw3GQ"
      },
      "source": [
        "**Part A** - From the DataFrame created in Question 2, calculate the average marks for each subject"
      ]
    },
    {
      "cell_type": "code",
      "execution_count": 7,
      "metadata": {
        "id": "AxhCtST5xS3L"
      },
      "outputs": [
        {
          "data": {
            "text/html": [
              "<div>\n",
              "<style scoped>\n",
              "    .dataframe tbody tr th:only-of-type {\n",
              "        vertical-align: middle;\n",
              "    }\n",
              "\n",
              "    .dataframe tbody tr th {\n",
              "        vertical-align: top;\n",
              "    }\n",
              "\n",
              "    .dataframe thead th {\n",
              "        text-align: right;\n",
              "    }\n",
              "</style>\n",
              "<table border=\"1\" class=\"dataframe\">\n",
              "  <thead>\n",
              "    <tr style=\"text-align: right;\">\n",
              "      <th></th>\n",
              "      <th>Average Marks</th>\n",
              "    </tr>\n",
              "  </thead>\n",
              "  <tbody>\n",
              "    <tr>\n",
              "      <th>Biology</th>\n",
              "      <td>47.894737</td>\n",
              "    </tr>\n",
              "    <tr>\n",
              "      <th>Chemistry</th>\n",
              "      <td>50.576923</td>\n",
              "    </tr>\n",
              "    <tr>\n",
              "      <th>Mathematics</th>\n",
              "      <td>48.972222</td>\n",
              "    </tr>\n",
              "    <tr>\n",
              "      <th>Philosophy</th>\n",
              "      <td>47.270270</td>\n",
              "    </tr>\n",
              "    <tr>\n",
              "      <th>Physics</th>\n",
              "      <td>51.761905</td>\n",
              "    </tr>\n",
              "    <tr>\n",
              "      <th>Sociology</th>\n",
              "      <td>56.026316</td>\n",
              "    </tr>\n",
              "  </tbody>\n",
              "</table>\n",
              "</div>"
            ],
            "text/plain": [
              "             Average Marks\n",
              "Biology          47.894737\n",
              "Chemistry        50.576923\n",
              "Mathematics      48.972222\n",
              "Philosophy       47.270270\n",
              "Physics          51.761905\n",
              "Sociology        56.026316"
            ]
          },
          "execution_count": 7,
          "metadata": {},
          "output_type": "execute_result"
        }
      ],
      "source": [
        "subjects = {}\n",
        "for i in mark_sheet_data[\"Exam name\"].unique():\n",
        "    subjects[i] = mark_sheet_data.loc[mark_sheet_data[\"Exam name\"] == i][\"Marks\"].mean()\n",
        "subjects = pd.DataFrame.from_dict(subjects,orient='index',columns=[\"Average Marks\"])\n",
        "subjects"
      ]
    },
    {
      "cell_type": "markdown",
      "metadata": {
        "id": "NDlaA7hHxUBc"
      },
      "source": [
        "**Part B** - Using the averages you just calculated, plot a Bar Graph showing the average marks of each subject"
      ]
    },
    {
      "cell_type": "code",
      "execution_count": 8,
      "metadata": {
        "id": "LWoPFZBOyyNn"
      },
      "outputs": [
        {
          "data": {
            "image/png": "[encoded data removed]",
            "text/plain": [
              "<Figure size 640x480 with 1 Axes>"
            ]
          },
          "metadata": {},
          "output_type": "display_data"
        }
      ],
      "source": [
        "subjects.plot(kind=\"bar\",title=\"Average Marks of Subjects\")\n",
        "plt.show()"
      ]
    },
    {
      "cell_type": "markdown",
      "metadata": {
        "id": "dWlOSOIs6d1R"
      },
      "source": [
        "---\n",
        "## Question 4\n",
        "---"
      ]
    },
    {
      "cell_type": "markdown",
      "metadata": {
        "id": "b4s-pN4v6kgb"
      },
      "source": [
        "**Part A** - Import the file \"CatData.csv\" and preprocess it to remove any null values"
      ]
    },
    {
      "cell_type": "code",
      "execution_count": 9,
      "metadata": {
        "id": "mvZ3xrBV9b1s"
      },
      "outputs": [],
      "source": [
        "cat_data = pd.read_csv('CatData.csv')\n",
        "cat_data = cat_data.dropna()"
      ]
    },
    {
      "cell_type": "markdown",
      "metadata": {
        "id": "bWxuB3ep9SWA"
      },
      "source": [
        "**Part B** - Identify the independant and dependant variables (comment answer below)"
      ]
    },
    {
      "cell_type": "code",
      "execution_count": 10,
      "metadata": {
        "id": "TS9tvuRt9cWr"
      },
      "outputs": [],
      "source": [
        "# dependant variable:  mass\n",
        "# independant variable: tail_length"
      ]
    },
    {
      "cell_type": "markdown",
      "metadata": {
        "id": "xPHVA3cX7uk9"
      },
      "source": [
        "**Part C** - Create a linear regression model using sklearn and fit it to the data you just imported\n"
      ]
    },
    {
      "cell_type": "code",
      "execution_count": 11,
      "metadata": {
        "id": "WYVNRotH9cyo"
      },
      "outputs": [],
      "source": [
        "n = len(cat_data) * 0.8\n",
        "\n",
        "train_data = cat_data[:int(n)]\n",
        "test_data = cat_data[int(n):]\n",
        "\n",
        "train_x = np.array(train_data[[\"Tail Length (cm)\"]])\n",
        "train_y = np.array(train_data[[\"Mass (kg)\"]])\n",
        "\n",
        "lr = linear_model.LinearRegression()\n",
        "\n",
        "lr.fit(train_x,train_y)\n",
        "\n",
        "slope = lr.coef_[0]\n",
        "intercept = lr.intercept_\n"
      ]
    },
    {
      "cell_type": "markdown",
      "metadata": {
        "id": "0QMipKhb830G"
      },
      "source": [
        "**Part D** - Print the values for slope and y-intercept"
      ]
    },
    {
      "cell_type": "code",
      "execution_count": 12,
      "metadata": {
        "id": "R7cvi3KB9dJh"
      },
      "outputs": [
        {
          "name": "stdout",
          "output_type": "stream",
          "text": [
            "Slope =  [0.48913766]\n",
            "Intercept =  [-5.57328662]\n"
          ]
        }
      ],
      "source": [
        "print(\"Slope = \",slope)\n",
        "print(\"Intercept = \",intercept)"
      ]
    },
    {
      "cell_type": "markdown",
      "metadata": {
        "id": "IIq-BQYp_i33"
      },
      "source": [
        "**Part E** - Plot a scatter graph of the original data and a regression line on the same figure (example with dummy data shown below)\n",
        "\n",
        "![](https://drive.google.com/uc?export=view&id=1o_NAsNjfx7zAh9m-UjvWB3rta6uraKdY)"
      ]
    },
    {
      "cell_type": "code",
      "execution_count": 13,
      "metadata": {
        "id": "jhz8gTYt_lCn"
      },
      "outputs": [
        {
          "name": "stderr",
          "output_type": "stream",
          "text": [
            "c:\\ProgramData\\Anaconda3\\lib\\site-packages\\sklearn\\base.py:443: UserWarning: X has feature names, but LinearRegression was fitted without feature names\n",
            "  warnings.warn(\n"
          ]
        },
        {
          "data": {
            "image/png": "[encoded data removed]",
            "text/plain": [
              "<Figure size 640x480 with 1 Axes>"
            ]
          },
          "metadata": {},
          "output_type": "display_data"
        }
      ],
      "source": [
        "predicted_values = lr.predict(cat_data[[\"Tail Length (cm)\"]])\n",
        "plt.scatter(cat_data[\"Tail Length (cm)\"],cat_data[\"Mass (kg)\"],color=\"black\")\n",
        "plt.plot(cat_data[\"Tail Length (cm)\"],predicted_values,color=\"red\")\n",
        "plt.xlabel(\"Tail Length (cm)\")\n",
        "plt.ylabel(\"Mass (kg)\")\n",
        "plt.title(\"Relation between Tail Length and Mass\")\n",
        "plt.show()"
      ]
    }
  ],
  "metadata": {
    "colab": {
      "collapsed_sections": [],
      "provenance": []
    },
    "kernelspec": {
      "display_name": "Python 3.9.12 ('base')",
      "language": "python",
      "name": "python3"
    },
    "language_info": {
      "codemirror_mode": {
        "name": "ipython",
        "version": 3
      },
      "file_extension": ".py",
      "mimetype": "text/x-python",
      "name": "python",
      "nbconvert_exporter": "python",
      "pygments_lexer": "ipython3",
      "version": "3.9.12"
    },
    "vscode": {
      "interpreter": {
        "hash": "ad2bdc8ecc057115af97d19610ffacc2b4e99fae6737bb82f5d7fb13d2f2c186"
      }
    }
  },
  "nbformat": 4,
  "nbformat_minor": 0
}
